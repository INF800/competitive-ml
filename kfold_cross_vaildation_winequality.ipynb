{
  "nbformat": 4,
  "nbformat_minor": 0,
  "metadata": {
    "colab": {
      "name": "cross-vaildation-winequality.ipynb",
      "provenance": [],
      "authorship_tag": "ABX9TyOyF8i4j4GHN15t2QHjjR9p",
      "include_colab_link": true
    },
    "kernelspec": {
      "name": "python3",
      "display_name": "Python 3"
    }
  },
  "cells": [
    {
      "cell_type": "markdown",
      "metadata": {
        "id": "view-in-github",
        "colab_type": "text"
      },
      "source": [
        "<a href=\"https://colab.research.google.com/github/rakesh4real/competitive-ml/blob/main/kfold_cross_vaildation_winequality.ipynb\" target=\"_parent\"><img src=\"https://colab.research.google.com/assets/colab-badge.svg\" alt=\"Open In Colab\"/></a>"
      ]
    },
    {
      "cell_type": "code",
      "metadata": {
        "id": "3irrzlEsFvZS",
        "outputId": "02bf6e9a-06b9-43ac-c989-4349a43db972",
        "colab": {
          "base_uri": "https://localhost:8080/"
        }
      },
      "source": [
        "!curl -O https://archive.ics.uci.edu/ml/machine-learning-databases/wine-quality/winequality-red.csv"
      ],
      "execution_count": 1,
      "outputs": [
        {
          "output_type": "stream",
          "text": [
            "  % Total    % Received % Xferd  Average Speed   Time    Time     Time  Current\n",
            "                                 Dload  Upload   Total   Spent    Left  Speed\n",
            "100 84199  100 84199    0     0   152k      0 --:--:-- --:--:-- --:--:--  151k\n"
          ],
          "name": "stdout"
        }
      ]
    },
    {
      "cell_type": "code",
      "metadata": {
        "id": "7Y6yd1aMF-CE"
      },
      "source": [
        "import numpy as np\n",
        "import pandas as pd\n",
        "import matplotlib.pyplot as plt\n",
        "import seaborn as sns"
      ],
      "execution_count": 3,
      "outputs": []
    },
    {
      "cell_type": "code",
      "metadata": {
        "id": "dwet7jIDGGPN"
      },
      "source": [
        "CSV_PATH = '/content/winequality-red.csv'\n",
        "\n",
        "df = pd.read_csv(CSV_PATH, sep=';')"
      ],
      "execution_count": 8,
      "outputs": []
    },
    {
      "cell_type": "code",
      "metadata": {
        "id": "e1X27WmUGSyY",
        "outputId": "07ae7d3d-ca1f-46d6-8d55-a91f208accd3",
        "colab": {
          "base_uri": "https://localhost:8080/",
          "height": 176
        }
      },
      "source": [
        "df.head(3)"
      ],
      "execution_count": 10,
      "outputs": [
        {
          "output_type": "execute_result",
          "data": {
            "text/html": [
              "<div>\n",
              "<style scoped>\n",
              "    .dataframe tbody tr th:only-of-type {\n",
              "        vertical-align: middle;\n",
              "    }\n",
              "\n",
              "    .dataframe tbody tr th {\n",
              "        vertical-align: top;\n",
              "    }\n",
              "\n",
              "    .dataframe thead th {\n",
              "        text-align: right;\n",
              "    }\n",
              "</style>\n",
              "<table border=\"1\" class=\"dataframe\">\n",
              "  <thead>\n",
              "    <tr style=\"text-align: right;\">\n",
              "      <th></th>\n",
              "      <th>fixed acidity</th>\n",
              "      <th>volatile acidity</th>\n",
              "      <th>citric acid</th>\n",
              "      <th>residual sugar</th>\n",
              "      <th>chlorides</th>\n",
              "      <th>free sulfur dioxide</th>\n",
              "      <th>total sulfur dioxide</th>\n",
              "      <th>density</th>\n",
              "      <th>pH</th>\n",
              "      <th>sulphates</th>\n",
              "      <th>alcohol</th>\n",
              "      <th>quality</th>\n",
              "    </tr>\n",
              "  </thead>\n",
              "  <tbody>\n",
              "    <tr>\n",
              "      <th>0</th>\n",
              "      <td>7.4</td>\n",
              "      <td>0.70</td>\n",
              "      <td>0.00</td>\n",
              "      <td>1.9</td>\n",
              "      <td>0.076</td>\n",
              "      <td>11.0</td>\n",
              "      <td>34.0</td>\n",
              "      <td>0.9978</td>\n",
              "      <td>3.51</td>\n",
              "      <td>0.56</td>\n",
              "      <td>9.4</td>\n",
              "      <td>5</td>\n",
              "    </tr>\n",
              "    <tr>\n",
              "      <th>1</th>\n",
              "      <td>7.8</td>\n",
              "      <td>0.88</td>\n",
              "      <td>0.00</td>\n",
              "      <td>2.6</td>\n",
              "      <td>0.098</td>\n",
              "      <td>25.0</td>\n",
              "      <td>67.0</td>\n",
              "      <td>0.9968</td>\n",
              "      <td>3.20</td>\n",
              "      <td>0.68</td>\n",
              "      <td>9.8</td>\n",
              "      <td>5</td>\n",
              "    </tr>\n",
              "    <tr>\n",
              "      <th>2</th>\n",
              "      <td>7.8</td>\n",
              "      <td>0.76</td>\n",
              "      <td>0.04</td>\n",
              "      <td>2.3</td>\n",
              "      <td>0.092</td>\n",
              "      <td>15.0</td>\n",
              "      <td>54.0</td>\n",
              "      <td>0.9970</td>\n",
              "      <td>3.26</td>\n",
              "      <td>0.65</td>\n",
              "      <td>9.8</td>\n",
              "      <td>5</td>\n",
              "    </tr>\n",
              "  </tbody>\n",
              "</table>\n",
              "</div>"
            ],
            "text/plain": [
              "   fixed acidity  volatile acidity  citric acid  ...  sulphates  alcohol  quality\n",
              "0            7.4              0.70         0.00  ...       0.56      9.4        5\n",
              "1            7.8              0.88         0.00  ...       0.68      9.8        5\n",
              "2            7.8              0.76         0.04  ...       0.65      9.8        5\n",
              "\n",
              "[3 rows x 12 columns]"
            ]
          },
          "metadata": {
            "tags": []
          },
          "execution_count": 10
        }
      ]
    },
    {
      "cell_type": "code",
      "metadata": {
        "id": "nX0DdA1OGUmW",
        "outputId": "e1946f82-da9d-4967-c7dd-1484c979983d",
        "colab": {
          "base_uri": "https://localhost:8080/"
        }
      },
      "source": [
        "df['quality'].value_counts() # target"
      ],
      "execution_count": 12,
      "outputs": [
        {
          "output_type": "execute_result",
          "data": {
            "text/plain": [
              "5    681\n",
              "6    638\n",
              "7    199\n",
              "4     53\n",
              "8     18\n",
              "3     10\n",
              "Name: quality, dtype: int64"
            ]
          },
          "metadata": {
            "tags": []
          },
          "execution_count": 12
        }
      ]
    },
    {
      "cell_type": "code",
      "metadata": {
        "id": "MCde-0scGotK"
      },
      "source": [
        "quality_mapping = { 3: 0,\n",
        "    4: 1,\n",
        "    5: 2,\n",
        "    6: 3,\n",
        "    7: 4,\n",
        "    8: 5\n",
        "}"
      ],
      "execution_count": 14,
      "outputs": []
    },
    {
      "cell_type": "code",
      "metadata": {
        "id": "a_QmnB6dGwgq"
      },
      "source": [
        "df['quality'] = df['quality'].apply(lambda x: quality_mapping[x])\n",
        "\n",
        "# alternatively:\n",
        "# ==============\n",
        "# you can use the map function of pandas with\n",
        "# any dictionary to convert the values in a given\n",
        "# column to values in the dictionary\n",
        "# df.loc[:, \"quality\"] = df.quality.map(quality_mapping)"
      ],
      "execution_count": 15,
      "outputs": []
    },
    {
      "cell_type": "code",
      "metadata": {
        "id": "4Wm0KIuSG7A4",
        "outputId": "06314cae-b572-4b2c-b47c-fa47bb2ed90d",
        "colab": {
          "base_uri": "https://localhost:8080/"
        }
      },
      "source": [
        "df['quality'].value_counts()"
      ],
      "execution_count": 16,
      "outputs": [
        {
          "output_type": "execute_result",
          "data": {
            "text/plain": [
              "2    681\n",
              "3    638\n",
              "4    199\n",
              "1     53\n",
              "5     18\n",
              "0     10\n",
              "Name: quality, dtype: int64"
            ]
          },
          "metadata": {
            "tags": []
          },
          "execution_count": 16
        }
      ]
    },
    {
      "cell_type": "code",
      "metadata": {
        "id": "yIfdG5MsHx9b",
        "outputId": "01c44583-3a09-4ebd-c8ad-6dfd2cb56f82",
        "colab": {
          "base_uri": "https://localhost:8080/"
        }
      },
      "source": [
        "df.info()"
      ],
      "execution_count": 18,
      "outputs": [
        {
          "output_type": "stream",
          "text": [
            "<class 'pandas.core.frame.DataFrame'>\n",
            "RangeIndex: 1599 entries, 0 to 1598\n",
            "Data columns (total 12 columns):\n",
            " #   Column                Non-Null Count  Dtype  \n",
            "---  ------                --------------  -----  \n",
            " 0   fixed acidity         1599 non-null   float64\n",
            " 1   volatile acidity      1599 non-null   float64\n",
            " 2   citric acid           1599 non-null   float64\n",
            " 3   residual sugar        1599 non-null   float64\n",
            " 4   chlorides             1599 non-null   float64\n",
            " 5   free sulfur dioxide   1599 non-null   float64\n",
            " 6   total sulfur dioxide  1599 non-null   float64\n",
            " 7   density               1599 non-null   float64\n",
            " 8   pH                    1599 non-null   float64\n",
            " 9   sulphates             1599 non-null   float64\n",
            " 10  alcohol               1599 non-null   float64\n",
            " 11  quality               1599 non-null   int64  \n",
            "dtypes: float64(11), int64(1)\n",
            "memory usage: 150.0 KB\n"
          ],
          "name": "stdout"
        }
      ]
    },
    {
      "cell_type": "code",
      "metadata": {
        "id": "5OeryQfNG9_P"
      },
      "source": [
        "\"\"\"\n",
        "train-test-split (not good)\n",
        "\"\"\"\n",
        "\n",
        "# shuffling the dataframe\n",
        "df = df.sample(frac=1).reset_index(drop=True)\n",
        "\n",
        "ratio = 0.65\n",
        "split_idx = len(df)*ratio\n",
        "df_train = df.loc[:split_idx]\n",
        "df_test = df.loc[split_idx:]"
      ],
      "execution_count": 28,
      "outputs": []
    },
    {
      "cell_type": "code",
      "metadata": {
        "id": "UyEIzq4ZItsd"
      },
      "source": [
        "\"\"\"\n",
        "problem: classification\n",
        "model: decision tree\n",
        "\"\"\"\n",
        "\n",
        "from sklearn import tree\n",
        "from sklearn import metrics\n",
        "\n",
        "# greater >> overfitting\n",
        "MAX_DEPTH=3\n",
        "\n",
        "clf = tree.DecisionTreeClassifier(max_depth=MAX_DEPTH) # other hyperparams default values"
      ],
      "execution_count": 41,
      "outputs": []
    },
    {
      "cell_type": "code",
      "metadata": {
        "id": "mTHYc9VNJPzh",
        "outputId": "33f7f418-509f-4850-bcec-5ee76ed93dfa",
        "colab": {
          "base_uri": "https://localhost:8080/"
        }
      },
      "source": [
        "# Note: deccision tree does not need col - normalisation\n",
        "\n",
        "TARGET_COL_NAME = 'quality'\n",
        "X_COLS = [i for i in df.columns if i != TARGET_COL_NAME]\n",
        "\n",
        "clf.fit(df_train[X_COLS], df_train.quality)"
      ],
      "execution_count": 42,
      "outputs": [
        {
          "output_type": "execute_result",
          "data": {
            "text/plain": [
              "DecisionTreeClassifier(ccp_alpha=0.0, class_weight=None, criterion='gini',\n",
              "                       max_depth=3, max_features=None, max_leaf_nodes=None,\n",
              "                       min_impurity_decrease=0.0, min_impurity_split=None,\n",
              "                       min_samples_leaf=1, min_samples_split=2,\n",
              "                       min_weight_fraction_leaf=0.0, presort='deprecated',\n",
              "                       random_state=None, splitter='best')"
            ]
          },
          "metadata": {
            "tags": []
          },
          "execution_count": 42
        }
      ]
    },
    {
      "cell_type": "code",
      "metadata": {
        "id": "QveH3-P_Kw88",
        "outputId": "7151304f-4b72-42f5-b72c-680f8f608606",
        "colab": {
          "base_uri": "https://localhost:8080/"
        }
      },
      "source": [
        "\"\"\"\n",
        "evaluate\n",
        "\"\"\"\n",
        "\n",
        "# train acc\n",
        "train_predictions = clf.predict(df_train[X_COLS])\n",
        "acc = np.mean(train_predictions == df_train.quality)\n",
        "print(f'train acc: {acc*100:.2f}%')\n",
        "\n",
        "# test acc (unseen data)\n",
        "test_predictions = clf.predict(df_test[X_COLS])\n",
        "acc = np.mean(test_predictions == df_test.quality)\n",
        "print(f'test acc: {acc*100:.2f}%')"
      ],
      "execution_count": 51,
      "outputs": [
        {
          "output_type": "stream",
          "text": [
            "train acc: 57.79%\n",
            "test acc: 55.99%\n"
          ],
          "name": "stdout"
        }
      ]
    },
    {
      "cell_type": "code",
      "metadata": {
        "id": "xj-wI7XQLJHh"
      },
      "source": [
        "\"\"\"\n",
        "cross-validate `depth`\n",
        "\"\"\"\n",
        "\n",
        "def train_tree(MAX_DEPTH):\n",
        "  clf = tree.DecisionTreeClassifier(max_depth=MAX_DEPTH) # other hyperparams default values\n",
        "  clf.fit(df_train[X_COLS], df_train.quality)\n",
        "            \n",
        "  # train acc\n",
        "  train_predictions = clf.predict(df_train[X_COLS])\n",
        "  acc = np.mean(train_predictions == df_train.quality)\n",
        "  print(f'train acc: {acc*100:.2f}%')\n",
        "\n",
        "  # test acc (unseen data)\n",
        "  test_predictions = clf.predict(df_test[X_COLS])\n",
        "  acc = np.mean(test_predictions == df_test.quality)\n",
        "  print(f'test acc: {acc*100:.2f}%')"
      ],
      "execution_count": 60,
      "outputs": []
    },
    {
      "cell_type": "code",
      "metadata": {
        "id": "mSE62ZoWMwwn",
        "outputId": "3a33eb14-cfc2-4c3a-9bec-b151563b0485",
        "colab": {
          "base_uri": "https://localhost:8080/"
        }
      },
      "source": [
        "for depth in range(1, 20, 3):\n",
        "  print(\"=\"*60)\n",
        "  train_tree(MAX_DEPTH=depth)"
      ],
      "execution_count": 64,
      "outputs": [
        {
          "output_type": "stream",
          "text": [
            "============================================================\n",
            "train acc: 55.38%\n",
            "test acc: 55.28%\n",
            "============================================================\n",
            "train acc: 62.12%\n",
            "test acc: 53.31%\n",
            "============================================================\n",
            "train acc: 75.48%\n",
            "test acc: 59.57%\n",
            "============================================================\n",
            "train acc: 87.21%\n",
            "test acc: 57.96%\n",
            "============================================================\n",
            "train acc: 94.62%\n",
            "test acc: 56.89%\n",
            "============================================================\n",
            "train acc: 99.04%\n",
            "test acc: 57.78%\n",
            "============================================================\n",
            "train acc: 99.90%\n",
            "test acc: 57.25%\n"
          ],
          "name": "stdout"
        }
      ]
    },
    {
      "cell_type": "code",
      "metadata": {
        "id": "SFMJeujrNELs"
      },
      "source": [
        "# but the test acc is low (overfitting)\n",
        "# use cross validation to chose best `depth`"
      ],
      "execution_count": 66,
      "outputs": []
    },
    {
      "cell_type": "code",
      "metadata": {
        "id": "RNfaiSnXPwYP",
        "outputId": "3d1a8664-2634-46f7-dd82-1d6372902641",
        "colab": {
          "base_uri": "https://localhost:8080/",
          "height": 283
        }
      },
      "source": [
        "\"\"\"\n",
        "to use stratified kfold?\n",
        "\"\"\"\n",
        "\n",
        "b = sns.countplot(x='quality', data=df)\n",
        "\n",
        "b.set_xlabel(\"quality\", fontsize=14)\n",
        "b.set_ylabel(\"count\", fontsize=14)\n",
        "plt.show()\n",
        "\n",
        "# yes, use stratified!!"
      ],
      "execution_count": 79,
      "outputs": [
        {
          "output_type": "display_data",
          "data": {
            "image/png": "[encoded data removed]",
            "text/plain": [
              "<Figure size 432x288 with 1 Axes>"
            ]
          },
          "metadata": {
            "tags": [],
            "needs_background": "light"
          }
        }
      ]
    },
    {
      "cell_type": "code",
      "metadata": {
        "id": "no7Pw1NYQ1mE"
      },
      "source": [
        "\"\"\"\n",
        "+ train-val-test split (good)\n",
        "+ [classification] normal and stratified kfold cv\n",
        "\"\"\"\n",
        "\n",
        "from sklearn import model_selection\n",
        "\n",
        "def do_strat_kfold(n_splits=10):\n",
        "  \"\"\"\n",
        "  can do with images and other data to.\n",
        "  just store file names\n",
        "\n",
        "  use `stratified k-fold` if imbalanced\n",
        "  (same code but targes must be mentioned)\n",
        "  choose stratified k-fold blindly 😎\n",
        "  \"\"\"\n",
        "\n",
        "  # load train data and instantiate kfold \n",
        "  df = df_train.loc[:]\n",
        "\n",
        "  y = df.quality.values # for stratified\n",
        "  kf = model_selection.StratifiedKFold(n_splits=n_splits) # for stratified\n",
        "  #kf = model_selection.KFold(n_splits=n_splits) # normal k-fold\n",
        "\n",
        "  # new column `kfold` with all dummy `-1` and then shuffle\n",
        "  df[\"kfold\"] = -1\n",
        "  df = df.sample(frac=1).reset_index(drop=True)\n",
        "  \n",
        "  # fill the new column\n",
        "  #for fold, (trn_, val_) in enumerate(kf.split(X=df)): # normal k-fold\n",
        "  for fold, (trn_, val_) in enumerate(kf.split(X=df, y=y)): # for stratified \n",
        "    df.loc[val_, 'kfold'] = fold\n",
        "  \n",
        "  # save the new csv with kfold column\n",
        "  # will not be shuffled.\n",
        "  df.to_csv(\"train_folds.csv\", index=False)\n",
        "\n",
        "\n",
        "\n",
        "do_strat_kfold(n_splits=5) # `5` if small dataset ~1000 samples. Else, `10` "
      ],
      "execution_count": 95,
      "outputs": []
    },
    {
      "cell_type": "code",
      "metadata": {
        "id": "ocDaRSLkZ24u",
        "outputId": "c3e66d6b-52bd-4660-a6d5-aa43908c3d93",
        "colab": {
          "base_uri": "https://localhost:8080/",
          "height": 295
        }
      },
      "source": [
        "\"\"\"\n",
        "Sturge's rule (kfold for regression)\n",
        "------------------------------------\n",
        "for regression, targets needs to be converted\n",
        "to bins\n",
        "\n",
        "- if large dataset >10k (or) >100k\n",
        "    + use 10 or 20 bin\n",
        "- if small dataset <10k \n",
        "    + use 1+lg(size_of_dataset) \n",
        "\"\"\"\n",
        "\n",
        "def strurge(X):\n",
        "  return 1 + np.log2(X)\n",
        "\n",
        "lst = np.arange(1, 100000)\n",
        "bins = strurge(lst)\n",
        "plt.scatter(lst, bins)\n",
        "\n",
        "plt.title('Effective number of bins')\n",
        "plt.xlabel('dataset size')\n",
        "plt.ylabel('effective bins')\n",
        "plt.grid()\n",
        "plt.show()"
      ],
      "execution_count": 114,
      "outputs": [
        {
          "output_type": "display_data",
          "data": {
            "image/png": "[encoded data removed]",
            "text/plain": [
              "<Figure size 432x288 with 1 Axes>"
            ]
          },
          "metadata": {
            "tags": [],
            "needs_background": "light"
          }
        }
      ]
    }
  ]
}